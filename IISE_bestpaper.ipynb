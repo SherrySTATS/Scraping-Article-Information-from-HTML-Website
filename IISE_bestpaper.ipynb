{
 "cells": [
  {
   "cell_type": "markdown",
   "metadata": {},
   "source": [
    "# Scraping Article Information from HTML Website "
   ]
  },
  {
   "cell_type": "markdown",
   "metadata": {},
   "source": [
    "#### Install needed packages"
   ]
  },
  {
   "cell_type": "code",
   "execution_count": 12,
   "metadata": {},
   "outputs": [
    {
     "name": "stdout",
     "output_type": "stream",
     "text": [
      "Collecting package metadata (repodata.json): done\n",
      "Solving environment: done\n",
      "\n",
      "## Package Plan ##\n",
      "\n",
      "  environment location: /Applications/anaconda2/envs/py3\n",
      "\n",
      "  added / updated specs:\n",
      "    - requests\n",
      "\n",
      "\n",
      "The following packages will be downloaded:\n",
      "\n",
      "    package                    |            build\n",
      "    ---------------------------|-----------------\n",
      "    brotlipy-0.7.0             |py37haf1e3a3_1000         357 KB  anaconda\n",
      "    ca-certificates-2020.6.24  |                0         132 KB  anaconda\n",
      "    certifi-2020.6.20          |           py37_0         159 KB  anaconda\n",
      "    cffi-1.14.0                |   py37hb5b8e2f_0         219 KB  anaconda\n",
      "    chardet-3.0.4              |        py37_1003         173 KB  anaconda\n",
      "    cryptography-2.9.2         |   py37ha12b0ac_0         608 KB  anaconda\n",
      "    idna-2.10                  |             py_0          56 KB  anaconda\n",
      "    openssl-1.1.1g             |       h1de35cc_0         3.4 MB  anaconda\n",
      "    pycparser-2.20             |             py_2          94 KB  anaconda\n",
      "    pyopenssl-19.1.0           |             py_1          47 KB  anaconda\n",
      "    pysocks-1.7.1              |           py37_0          30 KB  anaconda\n",
      "    requests-2.24.0            |             py_0          54 KB  anaconda\n",
      "    urllib3-1.25.9             |             py_0          98 KB  anaconda\n",
      "    ------------------------------------------------------------\n",
      "                                           Total:         5.4 MB\n",
      "\n",
      "The following NEW packages will be INSTALLED:\n",
      "\n",
      "  brotlipy           anaconda/osx-64::brotlipy-0.7.0-py37haf1e3a3_1000\n",
      "  cffi               anaconda/osx-64::cffi-1.14.0-py37hb5b8e2f_0\n",
      "  chardet            anaconda/osx-64::chardet-3.0.4-py37_1003\n",
      "  cryptography       anaconda/osx-64::cryptography-2.9.2-py37ha12b0ac_0\n",
      "  idna               anaconda/noarch::idna-2.10-py_0\n",
      "  pycparser          anaconda/noarch::pycparser-2.20-py_2\n",
      "  pyopenssl          anaconda/noarch::pyopenssl-19.1.0-py_1\n",
      "  pysocks            anaconda/osx-64::pysocks-1.7.1-py37_0\n",
      "  requests           anaconda/noarch::requests-2.24.0-py_0\n",
      "  urllib3            anaconda/noarch::urllib3-1.25.9-py_0\n",
      "\n",
      "The following packages will be UPDATED:\n",
      "\n",
      "  ca-certificates    pkgs/main::ca-certificates-2019.11.27~ --> anaconda::ca-certificates-2020.6.24-0\n",
      "  certifi              pkgs/main::certifi-2019.11.28-py37_0 --> anaconda::certifi-2020.6.20-py37_0\n",
      "  openssl              pkgs/main::openssl-1.1.1d-h1de35cc_3 --> anaconda::openssl-1.1.1g-h1de35cc_0\n",
      "\n",
      "\n",
      "\n",
      "Downloading and Extracting Packages\n",
      "chardet-3.0.4        | 173 KB    | ##################################### | 100% \n",
      "pycparser-2.20       | 94 KB     | ##################################### | 100% \n",
      "cryptography-2.9.2   | 608 KB    | ##################################### | 100% \n",
      "requests-2.24.0      | 54 KB     | ##################################### | 100% \n",
      "idna-2.10            | 56 KB     | ##################################### | 100% \n",
      "brotlipy-0.7.0       | 357 KB    | ##################################### | 100% \n",
      "openssl-1.1.1g       | 3.4 MB    | ##################################### | 100% \n",
      "ca-certificates-2020 | 132 KB    | ##################################### | 100% \n",
      "pysocks-1.7.1        | 30 KB     | ##################################### | 100% \n",
      "urllib3-1.25.9       | 98 KB     | ##################################### | 100% \n",
      "certifi-2020.6.20    | 159 KB    | ##################################### | 100% \n",
      "pyopenssl-19.1.0     | 47 KB     | ##################################### | 100% \n",
      "cffi-1.14.0          | 219 KB    | ##################################### | 100% \n",
      "Preparing transaction: done\n",
      "Verifying transaction: done\n",
      "Executing transaction: done\n",
      "\n",
      "Note: you may need to restart the kernel to use updated packages.\n"
     ]
    }
   ],
   "source": [
    "conda install -c anaconda requests"
   ]
  },
  {
   "cell_type": "code",
   "execution_count": 16,
   "metadata": {},
   "outputs": [
    {
     "name": "stdout",
     "output_type": "stream",
     "text": [
      "Collecting package metadata (repodata.json): done\n",
      "Solving environment: done\n",
      "\n",
      "## Package Plan ##\n",
      "\n",
      "  environment location: /Applications/anaconda2/envs/py3\n",
      "\n",
      "  added / updated specs:\n",
      "    - bs4\n",
      "\n",
      "\n",
      "The following packages will be downloaded:\n",
      "\n",
      "    package                    |            build\n",
      "    ---------------------------|-----------------\n",
      "    beautifulsoup4-4.9.1       |           py37_0         167 KB  anaconda\n",
      "    bs4-4.9.1                  |                0           4 KB  anaconda\n",
      "    soupsieve-2.0.1            |             py_0          33 KB  anaconda\n",
      "    ------------------------------------------------------------\n",
      "                                           Total:         204 KB\n",
      "\n",
      "The following NEW packages will be INSTALLED:\n",
      "\n",
      "  beautifulsoup4     anaconda/osx-64::beautifulsoup4-4.9.1-py37_0\n",
      "  bs4                anaconda/noarch::bs4-4.9.1-0\n",
      "  soupsieve          anaconda/noarch::soupsieve-2.0.1-py_0\n",
      "\n",
      "\n",
      "\n",
      "Downloading and Extracting Packages\n",
      "soupsieve-2.0.1      | 33 KB     | ##################################### | 100% \n",
      "beautifulsoup4-4.9.1 | 167 KB    | ##################################### | 100% \n",
      "bs4-4.9.1            | 4 KB      | ##################################### | 100% \n",
      "Preparing transaction: done\n",
      "Verifying transaction: done\n",
      "Executing transaction: done\n",
      "\n",
      "Note: you may need to restart the kernel to use updated packages.\n"
     ]
    }
   ],
   "source": [
    "conda install -c anaconda bs4 -y"
   ]
  },
  {
   "cell_type": "code",
   "execution_count": 138,
   "metadata": {},
   "outputs": [
    {
     "name": "stdout",
     "output_type": "stream",
     "text": [
      "Collecting package metadata (repodata.json): done\n",
      "Solving environment: done\n",
      "\n",
      "## Package Plan ##\n",
      "\n",
      "  environment location: /Applications/anaconda2/envs/py3\n",
      "\n",
      "  added / updated specs:\n",
      "    - xlsxwriter\n",
      "\n",
      "\n",
      "The following packages will be downloaded:\n",
      "\n",
      "    package                    |            build\n",
      "    ---------------------------|-----------------\n",
      "    xlsxwriter-1.2.9           |             py_0         108 KB  anaconda\n",
      "    ------------------------------------------------------------\n",
      "                                           Total:         108 KB\n",
      "\n",
      "The following NEW packages will be INSTALLED:\n",
      "\n",
      "  xlsxwriter         anaconda/noarch::xlsxwriter-1.2.9-py_0\n",
      "\n",
      "\n",
      "\n",
      "Downloading and Extracting Packages\n",
      "xlsxwriter-1.2.9     | 108 KB    | ##################################### | 100% \n",
      "Preparing transaction: done\n",
      "Verifying transaction: done\n",
      "Executing transaction: done\n",
      "\n",
      "Note: you may need to restart the kernel to use updated packages.\n"
     ]
    }
   ],
   "source": [
    "conda install -c anaconda xlsxwriter"
   ]
  },
  {
   "cell_type": "markdown",
   "metadata": {},
   "source": [
    "### Import needed package"
   ]
  },
  {
   "cell_type": "code",
   "execution_count": 139,
   "metadata": {},
   "outputs": [],
   "source": [
    "import csv\n",
    "import requests \n",
    "from bs4 import BeautifulSoup\n",
    "import pandas as pd\n",
    "import numpy as np\n",
    "import xlsxwriter"
   ]
  },
  {
   "cell_type": "markdown",
   "metadata": {},
   "source": [
    "### Input the required vol and issue of the articles\n",
    "In out case, we extract articles information from Vol 51 Issue 7 to Vol 52 Issue 6"
   ]
  },
  {
   "cell_type": "code",
   "execution_count": 15,
   "metadata": {},
   "outputs": [
    {
     "data": {
      "text/html": [
       "<div>\n",
       "<style scoped>\n",
       "    .dataframe tbody tr th:only-of-type {\n",
       "        vertical-align: middle;\n",
       "    }\n",
       "\n",
       "    .dataframe tbody tr th {\n",
       "        vertical-align: top;\n",
       "    }\n",
       "\n",
       "    .dataframe thead th {\n",
       "        text-align: right;\n",
       "    }\n",
       "</style>\n",
       "<table border=\"1\" class=\"dataframe\">\n",
       "  <thead>\n",
       "    <tr style=\"text-align: right;\">\n",
       "      <th></th>\n",
       "      <th>vol</th>\n",
       "      <th>issue</th>\n",
       "    </tr>\n",
       "  </thead>\n",
       "  <tbody>\n",
       "    <tr>\n",
       "      <th>0</th>\n",
       "      <td>52</td>\n",
       "      <td>1</td>\n",
       "    </tr>\n",
       "    <tr>\n",
       "      <th>1</th>\n",
       "      <td>52</td>\n",
       "      <td>2</td>\n",
       "    </tr>\n",
       "    <tr>\n",
       "      <th>2</th>\n",
       "      <td>52</td>\n",
       "      <td>3</td>\n",
       "    </tr>\n",
       "    <tr>\n",
       "      <th>3</th>\n",
       "      <td>52</td>\n",
       "      <td>4</td>\n",
       "    </tr>\n",
       "    <tr>\n",
       "      <th>4</th>\n",
       "      <td>52</td>\n",
       "      <td>5</td>\n",
       "    </tr>\n",
       "    <tr>\n",
       "      <th>5</th>\n",
       "      <td>52</td>\n",
       "      <td>6</td>\n",
       "    </tr>\n",
       "    <tr>\n",
       "      <th>6</th>\n",
       "      <td>51</td>\n",
       "      <td>7</td>\n",
       "    </tr>\n",
       "    <tr>\n",
       "      <th>7</th>\n",
       "      <td>51</td>\n",
       "      <td>8</td>\n",
       "    </tr>\n",
       "    <tr>\n",
       "      <th>8</th>\n",
       "      <td>51</td>\n",
       "      <td>9</td>\n",
       "    </tr>\n",
       "    <tr>\n",
       "      <th>9</th>\n",
       "      <td>51</td>\n",
       "      <td>10</td>\n",
       "    </tr>\n",
       "    <tr>\n",
       "      <th>10</th>\n",
       "      <td>51</td>\n",
       "      <td>11</td>\n",
       "    </tr>\n",
       "    <tr>\n",
       "      <th>11</th>\n",
       "      <td>51</td>\n",
       "      <td>12</td>\n",
       "    </tr>\n",
       "  </tbody>\n",
       "</table>\n",
       "</div>"
      ],
      "text/plain": [
       "    vol  issue\n",
       "0    52      1\n",
       "1    52      2\n",
       "2    52      3\n",
       "3    52      4\n",
       "4    52      5\n",
       "5    52      6\n",
       "6    51      7\n",
       "7    51      8\n",
       "8    51      9\n",
       "9    51     10\n",
       "10   51     11\n",
       "11   51     12"
      ]
     },
     "execution_count": 15,
     "metadata": {},
     "output_type": "execute_result"
    }
   ],
   "source": [
    "vol = [52,51] \n",
    "vol = np.repeat(vol,6)\n",
    "issue = list(range(1,13))\n",
    "vol_no = pd.DataFrame(vol,columns = {'vol'})\n",
    "vol_no['issue'] = issue\n",
    "vol_no #check the corresponding vol_issue "
   ]
  },
  {
   "cell_type": "markdown",
   "metadata": {},
   "source": [
    "### Extract Article Information"
   ]
  },
  {
   "cell_type": "code",
   "execution_count": 143,
   "metadata": {},
   "outputs": [],
   "source": [
    "IISE_total_list_July2019toJune2020 = pd.DataFrame()\n",
    "\n",
    "for i in range(0,len(vol_no)):\n",
    "    url0 = ['https://www.tandfonline.com/toc/uiie21/'+vol_no['vol'][i].astype(str)+'/'+vol_no['issue'][i].astype(str)+'?nav=tocList']\n",
    "    url = url0[0]\n",
    "    \n",
    "    response = requests.get(url) #Getting the response from mentioned URL using get() method of requests \n",
    "    html = response.content\n",
    "    soup = BeautifulSoup(html) \n",
    "    \n",
    "    title = [item.get_text() for item in soup.select(\"span.hlFld-Title\")]\n",
    "    Author = [item.get_text() for item in soup.select(\"span.articleEntryAuthorsLinks\")]\n",
    "    doi = [a['href'] for a in soup.select(\"a.ref.nowrap\")]\n",
    "    doi = pd.DataFrame(doi)\n",
    "    doi.columns = doi.columns.get_level_values(0)\n",
    "    #doi = doi[doi[0].str.contains('pdf')] #creat the access to the pdf directly\n",
    "    doi = doi[doi[0].str.contains('full')] #access to the full article webpage\n",
    "    doi.drop_duplicates(inplace = True)\n",
    "    Link = ['https://www.tandfonline.com'+doi]\n",
    "    \n",
    "    iise_paper_vol_no = pd.DataFrame()\n",
    "    iise_paper_vol_no['Volume'] = np.repeat(vol_no['vol'][i],len(title))\n",
    "    iise_paper_vol_no['Issue'] = np.repeat(vol_no['issue'][i],len(title))\n",
    "    iise_paper_vol_no['Article'] = title\n",
    "    iise_paper_vol_no['Authors'] = Author\n",
    "    link = Link[0]\n",
    "    link.reset_index(drop=True, inplace=True)\n",
    "    iise_paper_vol_no = pd.concat([iise_paper_vol_no,link],axis=1,ignore_index=True)  \n",
    "    \n",
    "    IISE_total_list_July2019toJune2020 = IISE_total_list_July2019toJune2020.append(iise_paper_vol_no)"
   ]
  },
  {
   "cell_type": "markdown",
   "metadata": {},
   "source": [
    "Rename the columns"
   ]
  },
  {
   "cell_type": "code",
   "execution_count": 146,
   "metadata": {},
   "outputs": [],
   "source": [
    "IISE_total_list_July2019toJune2020.rename(columns={0: \"Volume\", 1: \"Issue\",2:\"Article\",3:\"Authors\",4:\"Link\"},inplace = True)"
   ]
  },
  {
   "cell_type": "markdown",
   "metadata": {},
   "source": [
    "### Save the Article Information to .xlsx File"
   ]
  },
  {
   "cell_type": "code",
   "execution_count": 147,
   "metadata": {},
   "outputs": [],
   "source": [
    "IISE_total_list_July2019toJune2020.to_excel(\"./IISE_total_list_July2019toJune2020.xlsx\") "
   ]
  }
 ],
 "metadata": {
  "kernelspec": {
   "display_name": "Python 3",
   "language": "python",
   "name": "python3"
  },
  "language_info": {
   "codemirror_mode": {
    "name": "ipython",
    "version": 3
   },
   "file_extension": ".py",
   "mimetype": "text/x-python",
   "name": "python",
   "nbconvert_exporter": "python",
   "pygments_lexer": "ipython3",
   "version": "3.7.6"
  }
 },
 "nbformat": 4,
 "nbformat_minor": 2
}
